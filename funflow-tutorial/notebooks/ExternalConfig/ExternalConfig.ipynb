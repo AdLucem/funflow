{
 "cells": [
  {
   "cell_type": "markdown",
   "metadata": {},
   "source": [
    "# Configuration\n",
    "\n",
    "Funflow provides support for configuring a `Flow` via a YAML config file or environment variables. Support for automatically generated CLI flags is also planned but as of the writing of this tutorial has not been implemented.\n",
    "\n",
    "If a Task you are using contains a `Configurable` field, you will need to specify the source for that configuration when you write your `Flow` via one of the `Literal`, `ConfigFromEnv`, or `ConfigFromFile` constructors. For example, the `Arg` field of the `DockerTask` supports configurable args. Let's take a look at a few examples.\n",
    "\n",
    "## Environment Variables"
   ]
  },
  {
   "cell_type": "code",
   "execution_count": 1,
   "metadata": {},
   "outputs": [],
   "source": [
    "{-# LANGUAGE FlexibleContexts #-}\n",
    "{-# LANGUAGE GADTs #-}\n",
    "-- Note: Using OverloadedStrings with DockerTask since it will automatically\n",
    "-- make sure that any `Literal` strings we write are of type `Arg`\n",
    "{-# LANGUAGE OverloadedStrings #-}\n",
    "\n",
    "import Data.Maybe (isJust, isNothing)\n",
    "import Path (Abs, Dir, File, Path, parseAbsDir, reldir, relfile, toFilePath, (</>))\n",
    "import System.Directory (getCurrentDirectory)\n",
    "import System.Environment (lookupEnv, setEnv, unsetEnv)\n",
    "\n",
    "import qualified Data.CAS.ContentStore as CS\n",
    "import Funflow\n",
    "import Funflow.Tasks.Docker\n",
    "import Funflow.Config (Configurable (Literal, ConfigFromFile, ConfigFromEnv, ConfigFromCLI))\n",
    "\n",
    "flow1 = dockerFlow $ \n",
    "    DockerTaskConfig {\n",
    "        image=\"alpine:latest\",\n",
    "        command=\"echo\",\n",
    "        args=[\"this is a hard-coded literal value, the next value is:\", Arg $ ConfigFromEnv \"CONFIGURING_FLOWS\"]\n",
    "    }"
   ]
  },
  {
   "cell_type": "markdown",
   "metadata": {},
   "source": [
    "Now we just need to set the `CONFIGURING_FLOWS` environment variable and run the task"
   ]
  },
  {
   "cell_type": "code",
   "execution_count": 2,
   "metadata": {},
   "outputs": [
    {
     "data": {
      "text/plain": [
       "Found docker images, pulling...\n",
       "Pulling docker image: alpine:latest\n",
       "2021-05-27T03:38:07.758648984Z this is a hard-coded literal value, the next value is: hello from an environment variable!\n",
       "Item {itemHash = ContentHash \"e3b0c44298fc1c149afbf4c8996fb92427ae41e4649b934ca495991b7852b855\"}"
      ]
     },
     "metadata": {},
     "output_type": "display_data"
    }
   ],
   "source": [
    "setEnv \"CONFIGURING_FLOWS\" \"'hello from an environment variable!'\"\n",
    "\n",
    "runFlow flow1 DockerTaskInput {inputBindings = [], argsVals = mempty} :: IO (CS.Item)"
   ]
  },
  {
   "cell_type": "markdown",
   "metadata": {},
   "source": [
    "## YAML File\n",
    "For passing in configurations via a config file, use the `ConfigFromFile` constructor and pass a config file path to `runFlowWithConfig`."
   ]
  },
  {
   "cell_type": "code",
   "execution_count": 3,
   "metadata": {},
   "outputs": [],
   "source": [
    "{-# LANGUAGE QuasiQuotes #-}\n",
    "\n",
    "getStoreAndConfig :: IO (Path Abs Dir, Path Abs File)\n",
    "getStoreAndConfig = do\n",
    "    cwd <- parseAbsDir =<< getCurrentDirectory\n",
    "    let storeDirPath = cwd </> [reldir|./.tmp/store|]\n",
    "        configFilePath = cwd </> [relfile|./flow.yaml|]\n",
    "    return (storeDirPath, configFilePath)"
   ]
  },
  {
   "cell_type": "code",
   "execution_count": 4,
   "metadata": {},
   "outputs": [
    {
     "data": {
      "text/plain": [
       "[\"ourMessage: \\\"Hello from the flow.yaml\\\"\",\"ourOtherValue: 42\"]"
      ]
     },
     "metadata": {},
     "output_type": "display_data"
    }
   ],
   "source": [
    "-- Inspect the config file.\n",
    "lines <$> ((toFilePath . snd <$> getStoreAndConfig) >>= readFile)"
   ]
  },
  {
   "cell_type": "code",
   "execution_count": 5,
   "metadata": {},
   "outputs": [],
   "source": [
    "goodFileArg = Arg $ ConfigFromFile \"ourMessage\"\n",
    "\n",
    "runWithEmptyInput :: [Arg] -> IO CS.Item\n",
    "runWithEmptyInput confArgs = \n",
    "    let flowConf = DockerTaskConfig{ image = \"alpine:latest\", command = \"echo\", args = confArgs }\n",
    "    in do\n",
    "        (storeDir, confFile) <- getStoreAndConfig\n",
    "        let runConf = RunFlowConfig{ configFile = Just confFile, storePath = storeDir }\n",
    "        runFlowWithConfig runConf (dockerFlow flowConf) DockerTaskInput{ inputBindings = [], argsVals = mempty }"
   ]
  },
  {
   "cell_type": "code",
   "execution_count": 6,
   "metadata": {},
   "outputs": [
    {
     "data": {
      "text/plain": [
       "Found docker images, pulling...\n",
       "Pulling docker image: alpine:latest\n",
       "2021-05-27T03:38:13.016307800Z Hello from the flow.yaml\n",
       "Item {itemHash = ContentHash \"e3b0c44298fc1c149afbf4c8996fb92427ae41e4649b934ca495991b7852b855\"}"
      ]
     },
     "metadata": {},
     "output_type": "display_data"
    }
   ],
   "source": [
    "runWithEmptyInput [goodFileArg]"
   ]
  },
  {
   "cell_type": "markdown",
   "metadata": {},
   "source": [
    "## Safety: _configuration_ is distinct from _execution_."
   ]
  },
  {
   "cell_type": "markdown",
   "metadata": {},
   "source": [
    "First, note that we can also __mix argument types__:"
   ]
  },
  {
   "cell_type": "code",
   "execution_count": 7,
   "metadata": {},
   "outputs": [
    {
     "data": {
      "text/plain": [
       "Found docker images, pulling...\n",
       "Pulling docker image: alpine:latest\n",
       "2021-05-27T03:38:15.996789848Z GREETING 1 Hello from the flow.yaml\n",
       "Item {itemHash = ContentHash \"e3b0c44298fc1c149afbf4c8996fb92427ae41e4649b934ca495991b7852b855\"}"
      ]
     },
     "metadata": {},
     "output_type": "display_data"
    }
   ],
   "source": [
    "-- Mixing literal and file config\n",
    "runWithEmptyInput [\"GREETING 1\", goodFileArg]"
   ]
  },
  {
   "cell_type": "code",
   "execution_count": 8,
   "metadata": {},
   "outputs": [
    {
     "data": {
      "text/plain": [
       "Just \"checkItOut!\""
      ]
     },
     "metadata": {},
     "output_type": "display_data"
    }
   ],
   "source": [
    "setEnv \"SECOND_GREETING\" \"checkItOut!\"\n",
    "lookupEnv \"SECOND_GREETING\""
   ]
  },
  {
   "cell_type": "code",
   "execution_count": 9,
   "metadata": {},
   "outputs": [
    {
     "data": {
      "text/plain": [
       "Found docker images, pulling...\n",
       "Pulling docker image: alpine:latest\n",
       "2021-05-27T03:38:19.174480420Z Hello from the flow.yaml checkItOut!\n",
       "Item {itemHash = ContentHash \"e3b0c44298fc1c149afbf4c8996fb92427ae41e4649b934ca495991b7852b855\"}"
      ]
     },
     "metadata": {},
     "output_type": "display_data"
    }
   ],
   "source": [
    "-- Mixing config file and env var.\n",
    "runWithEmptyInput [goodFileArg, Arg $ ConfigFromEnv \"SECOND_GREETING\"]"
   ]
  },
  {
   "cell_type": "markdown",
   "metadata": {},
   "source": [
    "More critical, though, is that _configuration precedes execution_. This means that we can _avoid destined failure_ by detecting the it during interpretation, before we ever actually run anything.\n",
    "Here we set up a simple example to demonstrate, but imagine the time (and perhaps monetary!) cost that could be saved when the destined failure would occur after a long-running computation."
   ]
  },
  {
   "cell_type": "code",
   "execution_count": 10,
   "metadata": {},
   "outputs": [
    {
     "data": {
      "text/plain": [
       "True"
      ]
     },
     "metadata": {},
     "output_type": "display_data"
    }
   ],
   "source": [
    "-- Set stage for config-time error.\n",
    "unsetEnv \"SECOND_GREETING\"\n",
    "isNothing <$> lookupEnv \"SECOND_GREETING\""
   ]
  },
  {
   "cell_type": "code",
   "execution_count": 11,
   "metadata": {},
   "outputs": [
    {
     "data": {
      "text/plain": [
       "Caught error: Missing the following required config keys: [\"SECOND_GREETING\"]"
      ]
     },
     "metadata": {},
     "output_type": "display_data"
    }
   ],
   "source": [
    "-- Trigger a config-time error.\n",
    "import Control.Exception.Safe (StringException(..), try)\n",
    "\n",
    "do\n",
    "    res <- try (runWithEmptyInput [goodFileArg, Arg $ ConfigFromEnv \"SECOND_GREETING\"])\n",
    "    case res of \n",
    "        Left (StringException msg _) -> putStrLn (\"Caught error: \" ++ msg)\n",
    "        Right _ -> error \"Unexpected success!\""
   ]
  },
  {
   "cell_type": "markdown",
   "metadata": {},
   "source": [
    "Also important is that _configuration is dynamic_. Although execution is decoupled from configuration, a new run triggers a fresh interpretation, \n",
    "effectively allowing a flow's configuration to be reconsidered before it's run again."
   ]
  },
  {
   "cell_type": "code",
   "execution_count": 12,
   "metadata": {},
   "outputs": [
    {
     "data": {
      "text/plain": [
       "True"
      ]
     },
     "metadata": {},
     "output_type": "display_data"
    }
   ],
   "source": [
    "-- Avoid config-time error.\n",
    "setEnv \"SECOND_GREETING\" \"now this works!\"\n",
    "isJust <$> lookupEnv \"SECOND_GREETING\""
   ]
  },
  {
   "cell_type": "code",
   "execution_count": 13,
   "metadata": {},
   "outputs": [
    {
     "data": {
      "text/plain": [
       "Found docker images, pulling...\n",
       "Pulling docker image: alpine:latest\n",
       "2021-05-27T03:38:25.549357335Z Hello from the flow.yaml now this works!\n",
       "Item {itemHash = ContentHash \"e3b0c44298fc1c149afbf4c8996fb92427ae41e4649b934ca495991b7852b855\"}"
      ]
     },
     "metadata": {},
     "output_type": "display_data"
    }
   ],
   "source": [
    "-- Now the previously config-time error is resolved.\n",
    "runWithEmptyInput [goodFileArg, Arg $ ConfigFromEnv \"SECOND_GREETING\"]"
   ]
  }
 ],
 "metadata": {
  "kernelspec": {
   "display_name": "Haskell - haskell",
   "language": "haskell",
   "name": "ihaskell_haskell"
  },
  "language_info": {
   "codemirror_mode": "Haskell",
   "file_extension": ".hs",
   "mimetype": "text/x-haskell",
   "name": "haskell",
   "pygments_lexer": "Haskell",
   "version": "8.8.4"
  }
 },
 "nbformat": 4,
 "nbformat_minor": 4
}
