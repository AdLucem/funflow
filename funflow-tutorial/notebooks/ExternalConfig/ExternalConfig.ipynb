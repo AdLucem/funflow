{
 "cells": [
  {
   "cell_type": "markdown",
   "metadata": {},
   "source": [
    "# Configuration\n",
    "\n",
    "Funflow provides support for configuring a `Flow` via a YAML config file or environment variables. Support for automatically generated CLI flags is also planned but as of the writing of this tutorial has not been implemented.\n",
    "\n",
    "If a Task you are using contains a `Configurable` field, when you write your `Flow` you will need to specify the source for that configuration via one of three constructors: `Literal`, `ConfigFromEnv`, or `ConfigFromFile`. For example, the `Arg` field of the `DockerTask` supports configurable args. Let's take a look at a few examples.\n",
    "\n",
    "## Environment Variables"
   ]
  },
  {
   "cell_type": "code",
   "execution_count": 131,
   "metadata": {},
   "outputs": [
    {
     "data": {
      "text/html": [
       "<style>/* Styles used for the Hoogle display in the pager */\n",
       ".hoogle-doc {\n",
       "display: block;\n",
       "padding-bottom: 1.3em;\n",
       "padding-left: 0.4em;\n",
       "}\n",
       ".hoogle-code {\n",
       "display: block;\n",
       "font-family: monospace;\n",
       "white-space: pre;\n",
       "}\n",
       ".hoogle-text {\n",
       "display: block;\n",
       "}\n",
       ".hoogle-name {\n",
       "color: green;\n",
       "font-weight: bold;\n",
       "}\n",
       ".hoogle-head {\n",
       "font-weight: bold;\n",
       "}\n",
       ".hoogle-sub {\n",
       "display: block;\n",
       "margin-left: 0.4em;\n",
       "}\n",
       ".hoogle-package {\n",
       "font-weight: bold;\n",
       "font-style: italic;\n",
       "}\n",
       ".hoogle-module {\n",
       "font-weight: bold;\n",
       "}\n",
       ".hoogle-class {\n",
       "font-weight: bold;\n",
       "}\n",
       ".get-type {\n",
       "color: green;\n",
       "font-weight: bold;\n",
       "font-family: monospace;\n",
       "display: block;\n",
       "white-space: pre-wrap;\n",
       "}\n",
       ".show-type {\n",
       "color: green;\n",
       "font-weight: bold;\n",
       "font-family: monospace;\n",
       "margin-left: 1em;\n",
       "}\n",
       ".mono {\n",
       "font-family: monospace;\n",
       "display: block;\n",
       "}\n",
       ".err-msg {\n",
       "color: red;\n",
       "font-style: italic;\n",
       "font-family: monospace;\n",
       "white-space: pre;\n",
       "display: block;\n",
       "}\n",
       "#unshowable {\n",
       "color: red;\n",
       "font-weight: bold;\n",
       "}\n",
       ".err-msg.in.collapse {\n",
       "padding-top: 0.7em;\n",
       "}\n",
       ".highlight-code {\n",
       "white-space: pre;\n",
       "font-family: monospace;\n",
       "}\n",
       ".suggestion-warning { \n",
       "font-weight: bold;\n",
       "color: rgb(200, 130, 0);\n",
       "}\n",
       ".suggestion-error { \n",
       "font-weight: bold;\n",
       "color: red;\n",
       "}\n",
       ".suggestion-name {\n",
       "font-weight: bold;\n",
       "}\n",
       "</style><div class=\"suggestion-name\" style=\"clear:both;\">Unused LANGUAGE pragma</div><div class=\"suggestion-row\" style=\"float: left;\"><div class=\"suggestion-warning\">Found:</div><div class=\"highlight-code\" id=\"haskell\">{-# LANGUAGE OverloadedStrings #-}</div></div><div class=\"suggestion-row\" style=\"float: left;\"><div class=\"suggestion-warning\">Why Not:</div><div class=\"highlight-code\" id=\"haskell\"></div></div><div class=\"suggestion-name\" style=\"clear:both;\">Unused LANGUAGE pragma</div><div class=\"suggestion-row\" style=\"float: left;\"><div class=\"suggestion-warning\">Found:</div><div class=\"highlight-code\" id=\"haskell\">{-# LANGUAGE QuasiQuotes #-}</div></div><div class=\"suggestion-row\" style=\"float: left;\"><div class=\"suggestion-warning\">Why Not:</div><div class=\"highlight-code\" id=\"haskell\"></div></div>"
      ],
      "text/plain": [
       "Line 5: Unused LANGUAGE pragma\n",
       "Found:\n",
       "{-# LANGUAGE OverloadedStrings #-}\n",
       "Why not:\n",
       "Line 6: Unused LANGUAGE pragma\n",
       "Found:\n",
       "{-# LANGUAGE QuasiQuotes #-}\n",
       "Why not:"
      ]
     },
     "metadata": {},
     "output_type": "display_data"
    }
   ],
   "source": [
    "{-# LANGUAGE FlexibleContexts #-}\n",
    "{-# LANGUAGE GADTs #-}\n",
    "-- Note: Using OverloadedStrings with DockerTask since it will automatically\n",
    "-- make sure that any `Literal` strings we write are of type `Arg`\n",
    "{-# LANGUAGE OverloadedStrings #-}\n",
    "{-# LANGUAGE QuasiQuotes #-}\n",
    "{-# LANGUAGE RankNTypes #-}\n",
    "\n",
    "import Control.Exception.Safe (StringException(..), try)\n",
    "import Control.Monad.Catch (handleIf)\n",
    "import Data.Maybe (fromMaybe, isJust, isNothing)\n",
    "\n",
    "import qualified Data.Map as Map\n",
    "import Path (Abs, Dir, File, Path, parseAbsDir, reldir, relfile, toFilePath, (</>))\n",
    "import System.Directory (getCurrentDirectory)\n",
    "import System.Environment (lookupEnv, setEnv, unsetEnv)\n",
    "\n",
    "import qualified Data.CAS.ContentStore as CS\n",
    "import Funflow\n",
    "import Funflow.Tasks.Docker\n",
    "import Funflow.Config (Configurable (Literal, ConfigFromFile, ConfigFromEnv))"
   ]
  },
  {
   "cell_type": "code",
   "execution_count": 43,
   "metadata": {},
   "outputs": [],
   "source": [
    "flow1 = dockerFlow $ \n",
    "    DockerTaskConfig {\n",
    "        image=\"alpine:latest\",\n",
    "        command=\"echo\",\n",
    "        args=[\"this is a hard-coded literal value, the next value is:\", Arg $ ConfigFromEnv \"CONFIGURING_FLOWS\"]\n",
    "    }"
   ]
  },
  {
   "cell_type": "markdown",
   "metadata": {},
   "source": [
    "Now we just need to set the `CONFIGURING_FLOWS` environment variable and run the task"
   ]
  },
  {
   "cell_type": "code",
   "execution_count": 5,
   "metadata": {},
   "outputs": [
    {
     "data": {
      "text/plain": [
       "Found docker images, pulling...\n",
       "Pulling docker image: alpine:latest\n",
       "2021-05-27T23:23:37.067491537Z this is a hard-coded literal value, the next value is: hello from an environment variable!\n",
       "Item {itemHash = ContentHash \"e3b0c44298fc1c149afbf4c8996fb92427ae41e4649b934ca495991b7852b855\"}"
      ]
     },
     "metadata": {},
     "output_type": "display_data"
    }
   ],
   "source": [
    "setEnv \"CONFIGURING_FLOWS\" \"'hello from an environment variable!'\"\n",
    "\n",
    "runFlow flow1 DockerTaskInput {inputBindings = [], argsVals = mempty} :: IO (CS.Item)"
   ]
  },
  {
   "cell_type": "markdown",
   "metadata": {},
   "source": [
    "## YAML File\n",
    "For passing in configurations via a config file, use the `ConfigFromFile` constructor and pass a config file path to `runFlowWithConfig`."
   ]
  },
  {
   "cell_type": "code",
   "execution_count": 24,
   "metadata": {},
   "outputs": [],
   "source": [
    "getStoreAndConfig :: IO (Path Abs Dir, Path Abs File)\n",
    "getStoreAndConfig = do\n",
    "    cwd <- parseAbsDir =<< getCurrentDirectory\n",
    "    let storeDirPath = cwd </> [reldir|./.tmp/store|]\n",
    "        configFilePath = cwd </> [relfile|./flow.yaml|]\n",
    "    return (storeDirPath, configFilePath)\n",
    "    \n",
    "getTempRunConf :: IO RunFlowConfig\n",
    "getTempRunConf = (\\(d, f) -> RunFlowConfig{ configFile = Just f, storePath = d }) <$> getStoreAndConfig"
   ]
  },
  {
   "cell_type": "code",
   "execution_count": 7,
   "metadata": {},
   "outputs": [
    {
     "data": {
      "text/plain": [
       "[\"ourMessage: \\\"Hello from the flow.yaml\\\"\",\"ourOtherValue: 42\"]"
      ]
     },
     "metadata": {},
     "output_type": "display_data"
    }
   ],
   "source": [
    "-- Inspect the config file.\n",
    "lines <$> ((toFilePath . snd <$> getStoreAndConfig) >>= readFile)"
   ]
  },
  {
   "cell_type": "code",
   "execution_count": 32,
   "metadata": {},
   "outputs": [],
   "source": [
    "goodFileArg = Arg $ ConfigFromFile \"ourMessage\"\n",
    "\n",
    "runWithEmptyInput :: [Arg] -> IO CS.Item\n",
    "runWithEmptyInput confArgs = \n",
    "    let flowConf = DockerTaskConfig{ image = \"alpine:latest\", command = \"echo\", args = confArgs }\n",
    "    in getTempRunConf >>= (\\runCfg -> runFlowWithConfig runCfg (dockerFlow flowConf) (mempty :: DockerTaskInput) )"
   ]
  },
  {
   "cell_type": "code",
   "execution_count": 33,
   "metadata": {},
   "outputs": [
    {
     "data": {
      "text/plain": [
       "Found docker images, pulling...\n",
       "Pulling docker image: alpine:latest\n",
       "2021-05-28T02:34:50.878291557Z Hello from the flow.yaml\n",
       "Item {itemHash = ContentHash \"e3b0c44298fc1c149afbf4c8996fb92427ae41e4649b934ca495991b7852b855\"}"
      ]
     },
     "metadata": {},
     "output_type": "display_data"
    }
   ],
   "source": [
    "runWithEmptyInput [goodFileArg]"
   ]
  },
  {
   "cell_type": "markdown",
   "metadata": {},
   "source": [
    "## Mixing `Configurable`s"
   ]
  },
  {
   "cell_type": "markdown",
   "metadata": {},
   "source": [
    "As noted, a `Configurable` argument may constructed one of three ways:\n",
    "* `Literal`\n",
    "* `ConfigFromEnv`\n",
    "* `ConfigFromFile`\n",
    "\n",
    "Since each yields a `Configurable a` value, though, we may mix these when we provide the `args` list to a task configuration."
   ]
  },
  {
   "cell_type": "code",
   "execution_count": 34,
   "metadata": {},
   "outputs": [
    {
     "data": {
      "text/plain": [
       "Found docker images, pulling...\n",
       "Pulling docker image: alpine:latest\n",
       "2021-05-28T02:35:05.930536958Z GREETING 1 Hello from the flow.yaml\n",
       "Item {itemHash = ContentHash \"e3b0c44298fc1c149afbf4c8996fb92427ae41e4649b934ca495991b7852b855\"}"
      ]
     },
     "metadata": {},
     "output_type": "display_data"
    }
   ],
   "source": [
    "-- Mixing literal and file config\n",
    "runWithEmptyInput [\"GREETING 1\", goodFileArg]"
   ]
  },
  {
   "cell_type": "code",
   "execution_count": 35,
   "metadata": {},
   "outputs": [
    {
     "data": {
      "text/plain": [
       "Just \"checkItOut!\""
      ]
     },
     "metadata": {},
     "output_type": "display_data"
    }
   ],
   "source": [
    "setEnv \"SECOND_GREETING\" \"checkItOut!\"\n",
    "lookupEnv \"SECOND_GREETING\""
   ]
  },
  {
   "cell_type": "code",
   "execution_count": 36,
   "metadata": {},
   "outputs": [
    {
     "data": {
      "text/plain": [
       "Found docker images, pulling...\n",
       "Pulling docker image: alpine:latest\n",
       "2021-05-28T02:35:12.282644515Z Hello from the flow.yaml checkItOut!\n",
       "Item {itemHash = ContentHash \"e3b0c44298fc1c149afbf4c8996fb92427ae41e4649b934ca495991b7852b855\"}"
      ]
     },
     "metadata": {},
     "output_type": "display_data"
    }
   ],
   "source": [
    "-- Mixing config file and env var.\n",
    "runWithEmptyInput [goodFileArg, Arg $ ConfigFromEnv \"SECOND_GREETING\"]"
   ]
  },
  {
   "cell_type": "markdown",
   "metadata": {},
   "source": [
    "We can also mix `Placeholder`s with `Configurable`s:"
   ]
  },
  {
   "cell_type": "code",
   "execution_count": 46,
   "metadata": {},
   "outputs": [
    {
     "data": {
      "text/plain": [
       "Found docker images, pulling...\n",
       "Pulling docker image: alpine:latest\n",
       "2021-05-28T02:39:33.103011486Z Hello from the flow.yaml checkItOut! hello-from-arg3\n",
       "Item {itemHash = ContentHash \"e3b0c44298fc1c149afbf4c8996fb92427ae41e4649b934ca495991b7852b855\"}"
      ]
     },
     "metadata": {},
     "output_type": "display_data"
    }
   ],
   "source": [
    "currArgs  = [goodFileArg, Arg $ ConfigFromEnv \"SECOND_GREETING\", Placeholder \"par3\"]\n",
    "currInput = DockerTaskInput{ inputBindings = [], argsVals = Map.fromList [(\"par3\", \"hello-from-arg3\")] }\n",
    "flowConf  = DockerTaskConfig{ image = \"alpine:latest\", command = \"echo\", args = currArgs }\n",
    "getTempRunConf >>= (\\runCfg -> runFlowWithConfig runCfg (dockerFlow flowConf) currInput :: IO CS.Item)"
   ]
  },
  {
   "cell_type": "markdown",
   "metadata": {},
   "source": [
    "## _Safety for efficiency_: fail fast to avoid lost compute time and resources"
   ]
  },
  {
   "cell_type": "markdown",
   "metadata": {},
   "source": [
    "Another key point is that _configuration precedes execution_. This means that we can _avoid eventual failure_ by detecting the it during interpretation, before we ever actually run anything. Here we set up simple examples to demonstrate, but imagine the time (and perhaps monetary!) cost that could be saved when failure would occur after a long-running computation."
   ]
  },
  {
   "cell_type": "markdown",
   "metadata": {},
   "source": [
    "### Argument existence as a prerequisite"
   ]
  },
  {
   "cell_type": "markdown",
   "metadata": {},
   "source": [
    "First, note that regardless of how an argument is constructed, execution requires resolution of a value for the argument (though for a `Literal` this is trivial.) To see this, we'll catch exceptions of type `StringException` since that's what should arise when a configuration is illegal or incomplete. Any other result will yield an alarming message. We thus define a helper:"
   ]
  },
  {
   "cell_type": "code",
   "execution_count": 73,
   "metadata": {},
   "outputs": [],
   "source": [
    "-- First, define a helper for running a simple echo command\n",
    "import Control.Exception (SomeException)\n",
    "\n",
    "runEcho1 :: Arg -> Maybe RunFlowConfig -> Maybe DockerTaskInput -> IO ()\n",
    "runEcho1 arg runConfOpt taskInOpt = \n",
    "    let flowConf  = DockerTaskConfig{ image = \"alpine:latest\", command = \"echo\", args = [arg] }\n",
    "        taskIn    = fromMaybe mempty taskInOpt\n",
    "        getStore  = (</> [reldir|./.tmp/store|]) <$> (getCurrentDirectory >>= parseAbsDir)\n",
    "        mkRunConf = case runConfOpt of \n",
    "            Nothing -> (\\s -> RunFlowConfig{ configFile = Nothing, storePath = s }) <$> getStore\n",
    "            Just rc -> pure rc\n",
    "    in do\n",
    "        runCfg <- mkRunConf\n",
    "        result <- try $ (runFlowWithConfig runCfg (dockerFlow flowConf) taskIn :: IO CS.Item)\n",
    "        case result of\n",
    "            Left (StringException msg _) -> putStrLn (\"Successfully caught exception: \" ++ msg)\n",
    "            Left ex                      -> putStrLn (\"Unexpected error: \" ++ show ex)\n",
    "            Right _                      -> putStrLn \"Unintended success :/\""
   ]
  },
  {
   "cell_type": "markdown",
   "metadata": {},
   "source": [
    "Note that this works when the argument is a literal, and we're simply echoed whatever we provide, and we'll get an \"unintended success\" message:"
   ]
  },
  {
   "cell_type": "code",
   "execution_count": 78,
   "metadata": {},
   "outputs": [
    {
     "data": {
      "text/plain": [
       "Found docker images, pulling...\n",
       "Pulling docker image: alpine:latest\n",
       "2021-05-28T04:59:14.601873180Z salut, funflow\n",
       "Unintended success :/"
      ]
     },
     "metadata": {},
     "output_type": "display_data"
    }
   ],
   "source": [
    "runEcho1 \"salut, funflow\" Nothing Nothing"
   ]
  },
  {
   "cell_type": "markdown",
   "metadata": {},
   "source": [
    "But if we set up the arguments as an environment variable, a file-configurable, or a placeholder, we will get an error:"
   ]
  },
  {
   "cell_type": "code",
   "execution_count": 87,
   "metadata": {},
   "outputs": [
    {
     "data": {
      "text/plain": [
       "True"
      ]
     },
     "metadata": {},
     "output_type": "display_data"
    }
   ],
   "source": [
    "-- Set up env var config failure.\n",
    "isNothing <$> lookupEnv \"MY_TMP_EV\""
   ]
  },
  {
   "cell_type": "code",
   "execution_count": 88,
   "metadata": {},
   "outputs": [
    {
     "data": {
      "text/plain": [
       "Successfully caught exception: Missing the following required config keys: [\"MY_TMP_EV\"]"
      ]
     },
     "metadata": {},
     "output_type": "display_data"
    }
   ],
   "source": [
    "-- failure from environment variable\n",
    "runEcho1 (Arg $ ConfigFromEnv \"MY_TMP_EV\") Nothing Nothing"
   ]
  },
  {
   "cell_type": "code",
   "execution_count": 86,
   "metadata": {},
   "outputs": [
    {
     "data": {
      "text/plain": [
       "[\"ourMessage: \\\"Hello from the flow.yaml\\\"\",\"ourOtherValue: 42\"]\n",
       "Successfully caught exception: Missing the following required config keys: [\"MY_TMP_EV\"]"
      ]
     },
     "metadata": {},
     "output_type": "display_data"
    }
   ],
   "source": [
    "-- failure from file configurable\n",
    "do\n",
    "    (d, f) <- getStoreAndConfig\n",
    "    readFile (toFilePath f) >>= print . lines\n",
    "    runEcho1 (Arg $ ConfigFromFile \"MY_TMP_EV\") (Just RunFlowConfig{ configFile = Just f, storePath = d }) Nothing"
   ]
  },
  {
   "cell_type": "code",
   "execution_count": 89,
   "metadata": {},
   "outputs": [
    {
     "data": {
      "text/plain": [
       "Found docker images, pulling...\n",
       "Pulling docker image: alpine:latest\n",
       "Successfully caught exception: Docker task failed with configuration errors: [\"Unfilled labelWONT_BE_FILLED\"]"
      ]
     },
     "metadata": {},
     "output_type": "display_data"
    }
   ],
   "source": [
    "-- failure from placeholder\n",
    "runEcho1 (Placeholder \"WONT_BE_FILLED\") Nothing (Just DockerTaskInput{ inputBindings = [], argsVals = mempty })"
   ]
  },
  {
   "cell_type": "code",
   "execution_count": 90,
   "metadata": {},
   "outputs": [
    {
     "data": {
      "text/plain": [
       "Found docker images, pulling...\n",
       "Pulling docker image: alpine:latest\n",
       "2021-05-28T05:20:05.758836940Z surprise!\n",
       "Unintended success :/"
      ]
     },
     "metadata": {},
     "output_type": "display_data"
    }
   ],
   "source": [
    "-- now the positive case, to show that the error catch is specific to an actual error and doesn't just occur generally\n",
    "runEcho1 (Placeholder \"WONT_BE_FILLED\") Nothing (Just DockerTaskInput{ inputBindings = [], argsVals = Map.fromList [(\"WONT_BE_FILLED\", \"surprise!\")] })"
   ]
  },
  {
   "cell_type": "markdown",
   "metadata": {},
   "source": [
    "### _No partial execution_: argument existence prerequisite is total."
   ]
  },
  {
   "cell_type": "code",
   "execution_count": 91,
   "metadata": {},
   "outputs": [
    {
     "data": {
      "text/plain": [
       "True"
      ]
     },
     "metadata": {},
     "output_type": "display_data"
    }
   ],
   "source": [
    "-- Set stage for config-time error.\n",
    "unsetEnv \"SECOND_GREETING\"\n",
    "isNothing <$> lookupEnv \"SECOND_GREETING\""
   ]
  },
  {
   "cell_type": "code",
   "execution_count": 92,
   "metadata": {},
   "outputs": [
    {
     "data": {
      "text/plain": [
       "Caught error: Missing the following required config keys: [\"SECOND_GREETING\"]"
      ]
     },
     "metadata": {},
     "output_type": "display_data"
    }
   ],
   "source": [
    "-- Trigger a config-time error.\n",
    "do\n",
    "    res <- try (runWithEmptyInput [goodFileArg, Arg $ ConfigFromEnv \"SECOND_GREETING\"])\n",
    "    case res of \n",
    "        Left (StringException msg _) -> putStrLn (\"Caught error: \" ++ msg)\n",
    "        Right _ -> error \"Unexpected success!\""
   ]
  },
  {
   "cell_type": "markdown",
   "metadata": {},
   "source": [
    "Note here that rather execution fails right away (in fact, as the flow is configuring the task, before any execution really begins).\n",
    "More specifically, rather first `echo`ing the value that our config file assigns to `\"ourMessage\"`, the flow catches the error before any action occurs (i.e., when the underlying task is configured, rather than as it's running)."
   ]
  },
  {
   "cell_type": "markdown",
   "metadata": {},
   "source": [
    "## Configuration is dynamic and prompted by a run attempt, not static and fixed by construction."
   ]
  },
  {
   "cell_type": "markdown",
   "metadata": {},
   "source": [
    "Also important is that _configuration is dynamic_. Although task execution is decoupled from configuration, a new run triggers a fresh interpretation, which\n",
    "allows a flow's configuration to be reconsidered before it's run again."
   ]
  },
  {
   "cell_type": "code",
   "execution_count": 122,
   "metadata": {},
   "outputs": [
    {
     "data": {
      "text/plain": [
       "True"
      ]
     },
     "metadata": {},
     "output_type": "display_data"
    }
   ],
   "source": [
    "-- pretest\n",
    "unsetEnv \"NOT_STATIC\"\n",
    "isNothing <$> lookupEnv \"NOT_STATIC\""
   ]
  },
  {
   "cell_type": "code",
   "execution_count": 123,
   "metadata": {},
   "outputs": [],
   "source": [
    "type DockFlow = Flow DockerTaskInput CS.Item\n",
    "\n",
    "-- First, a little helper to run flows for this demo\n",
    "runDynaDemo :: DockFlow -> IO ()\n",
    "runDynaDemo currFlow = do\n",
    "    (s, _) <- getStoreAndConfig\n",
    "    result <- try ( runFlowWithConfig RunFlowConfig{ configFile = Nothing, storePath = s } currFlow (mempty :: DockerTaskInput) :: IO CS.Item )\n",
    "    case result of\n",
    "        Left (StringException msg _) -> putStrLn (\"flow failed: \" ++ msg)\n",
    "        Right _                      -> putStrLn \"flow succeeded!\""
   ]
  },
  {
   "cell_type": "code",
   "execution_count": 124,
   "metadata": {},
   "outputs": [],
   "source": [
    "-- Build the flow that will first fail, then succeed.\n",
    "dynaFlow = dockerFlow DockerTaskConfig{ image = \"alpine:latest\", command = \"echo\", args = [Arg $ ConfigFromEnv \"NOT_STATIC\"] }"
   ]
  },
  {
   "cell_type": "code",
   "execution_count": 125,
   "metadata": {},
   "outputs": [
    {
     "data": {
      "text/plain": [
       "flow failed: Missing the following required config keys: [\"NOT_STATIC\"]"
      ]
     },
     "metadata": {},
     "output_type": "display_data"
    }
   ],
   "source": [
    "runDynaDemo dynaFlow"
   ]
  },
  {
   "cell_type": "code",
   "execution_count": 126,
   "metadata": {},
   "outputs": [
    {
     "data": {
      "text/plain": [
       "True"
      ]
     },
     "metadata": {},
     "output_type": "display_data"
    }
   ],
   "source": [
    "setEnv \"NOT_STATIC\" \"works now!\"\n",
    "isJust <$> lookupEnv \"NOT_STATIC\""
   ]
  },
  {
   "cell_type": "code",
   "execution_count": 127,
   "metadata": {},
   "outputs": [
    {
     "data": {
      "text/plain": [
       "Found docker images, pulling...\n",
       "Pulling docker image: alpine:latest\n",
       "2021-05-28T05:52:00.917013567Z works now!\n",
       "flow succeeded!"
      ]
     },
     "metadata": {},
     "output_type": "display_data"
    }
   ],
   "source": [
    "runDynaDemo dynaFlow"
   ]
  }
 ],
 "metadata": {
  "kernelspec": {
   "display_name": "Haskell - haskell",
   "language": "haskell",
   "name": "ihaskell_haskell"
  },
  "language_info": {
   "codemirror_mode": "Haskell",
   "file_extension": ".hs",
   "mimetype": "text/x-haskell",
   "name": "haskell",
   "pygments_lexer": "Haskell",
   "version": "8.8.4"
  }
 },
 "nbformat": 4,
 "nbformat_minor": 4
}
