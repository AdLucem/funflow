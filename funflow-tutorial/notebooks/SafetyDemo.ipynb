{
 "cells": [
  {
   "cell_type": "markdown",
   "metadata": {},
   "source": [
    "# Safety in Funflow\n",
    "\n",
    "Besides the safety that comes with immutable data and strong, static typing in Haskell, Funflow considers common properties of data workflow/pipeline authorship and strives to offer some extra safety tailored to this domain. In particular, Funflow offers some ___configuration-time_ validation__.\n",
    "\n",
    "What does this mean? Well, one upside of Funflow's ability to decouple pipeline _declaration_ from pipeline _execution_ is that we gain an additional layer of information, and a platform/opportunity to perform more informed validation of what will unfold at execution time. As such, we can consider the possibility for errors that could arise at arbitrary timepoints in the course of execution of a workflow.\n",
    "\n",
    "Just as static typing allows for _compile-time_ checking, catching errors that could otherwise occur much later in a program's lifecycle (during _run-time_), this concrete decoupling of conceptual phases of a pipeline's lifecycle allows us to surface errors. We'd much rather know about and be able to fix an error before a pipeline ever starts than to run into the error after great cost (certainly of compute time, and perhaps also of compute money!)"
   ]
  },
  {
   "cell_type": "code",
   "execution_count": 1,
   "metadata": {},
   "outputs": [],
   "source": [
    "import qualified Data.Map as Map\n",
    "import qualified Data.Text as T\n",
    "import System.Environment (lookupEnv, setEnv)"
   ]
  },
  {
   "cell_type": "code",
   "execution_count": 2,
   "metadata": {},
   "outputs": [],
   "source": [
    "import qualified Data.CAS.ContentStore as CS\n",
    "import Funflow.Config ( Configurable( ConfigFromEnv ) )\n",
    "import Funflow.Flow (dockerFlow, Flow)\n",
    "import Funflow.Run (runFlow)\n",
    "import qualified Funflow.Tasks.Docker as DE"
   ]
  },
  {
   "cell_type": "markdown",
   "metadata": {},
   "source": [
    "First, let's establish an environment variable that's not set."
   ]
  },
  {
   "cell_type": "code",
   "execution_count": 3,
   "metadata": {},
   "outputs": [
    {
     "data": {
      "text/plain": [
       "Nothing"
      ]
     },
     "metadata": {},
     "output_type": "display_data"
    }
   ],
   "source": [
    "tmpEnvVar = \"FUNFLOW_TEST\"\n",
    "lookupEnv tmpEnvVar"
   ]
  },
  {
   "cell_type": "markdown",
   "metadata": {},
   "source": [
    "Now, to set up the demo of ___config-time_ failure__ (i.e., when the task is _interpreted_, but before it's executed), let's define a task configuration that uses the unset environment variable:"
   ]
  },
  {
   "cell_type": "code",
   "execution_count": 4,
   "metadata": {},
   "outputs": [
    {
     "data": {
      "text/html": [
       "<style>/* Styles used for the Hoogle display in the pager */\n",
       ".hoogle-doc {\n",
       "display: block;\n",
       "padding-bottom: 1.3em;\n",
       "padding-left: 0.4em;\n",
       "}\n",
       ".hoogle-code {\n",
       "display: block;\n",
       "font-family: monospace;\n",
       "white-space: pre;\n",
       "}\n",
       ".hoogle-text {\n",
       "display: block;\n",
       "}\n",
       ".hoogle-name {\n",
       "color: green;\n",
       "font-weight: bold;\n",
       "}\n",
       ".hoogle-head {\n",
       "font-weight: bold;\n",
       "}\n",
       ".hoogle-sub {\n",
       "display: block;\n",
       "margin-left: 0.4em;\n",
       "}\n",
       ".hoogle-package {\n",
       "font-weight: bold;\n",
       "font-style: italic;\n",
       "}\n",
       ".hoogle-module {\n",
       "font-weight: bold;\n",
       "}\n",
       ".hoogle-class {\n",
       "font-weight: bold;\n",
       "}\n",
       ".get-type {\n",
       "color: green;\n",
       "font-weight: bold;\n",
       "font-family: monospace;\n",
       "display: block;\n",
       "white-space: pre-wrap;\n",
       "}\n",
       ".show-type {\n",
       "color: green;\n",
       "font-weight: bold;\n",
       "font-family: monospace;\n",
       "margin-left: 1em;\n",
       "}\n",
       ".mono {\n",
       "font-family: monospace;\n",
       "display: block;\n",
       "}\n",
       ".err-msg {\n",
       "color: red;\n",
       "font-style: italic;\n",
       "font-family: monospace;\n",
       "white-space: pre;\n",
       "display: block;\n",
       "}\n",
       "#unshowable {\n",
       "color: red;\n",
       "font-weight: bold;\n",
       "}\n",
       ".err-msg.in.collapse {\n",
       "padding-top: 0.7em;\n",
       "}\n",
       ".highlight-code {\n",
       "white-space: pre;\n",
       "font-family: monospace;\n",
       "}\n",
       ".suggestion-warning { \n",
       "font-weight: bold;\n",
       "color: rgb(200, 130, 0);\n",
       "}\n",
       ".suggestion-error { \n",
       "font-weight: bold;\n",
       "color: red;\n",
       "}\n",
       ".suggestion-name {\n",
       "font-weight: bold;\n",
       "}\n",
       "</style><span class='get-type'>dockConf :: DockerTaskConfig</span>"
      ],
      "text/plain": [
       "dockConf :: DockerTaskConfig"
      ]
     },
     "metadata": {},
     "output_type": "display_data"
    }
   ],
   "source": [
    "dockConf = DE.DockerTaskConfig {DE.image = T.pack \"bash:latest\", DE.command = T.pack \"echo\", DE.args = [DE.Arg $ ConfigFromEnv (T.pack tmpEnvVar)]}\n",
    ":t dockConf"
   ]
  },
  {
   "cell_type": "markdown",
   "metadata": {},
   "source": [
    "To arbitrarily scale reusability across a DAG, `Funflow` execution is framed in terms of _flows_ rather than _tasks_, so let's create a flow based on our (known) faulty configuration:"
   ]
  },
  {
   "cell_type": "code",
   "execution_count": 5,
   "metadata": {},
   "outputs": [
    {
     "data": {
      "text/html": [
       "<style>/* Styles used for the Hoogle display in the pager */\n",
       ".hoogle-doc {\n",
       "display: block;\n",
       "padding-bottom: 1.3em;\n",
       "padding-left: 0.4em;\n",
       "}\n",
       ".hoogle-code {\n",
       "display: block;\n",
       "font-family: monospace;\n",
       "white-space: pre;\n",
       "}\n",
       ".hoogle-text {\n",
       "display: block;\n",
       "}\n",
       ".hoogle-name {\n",
       "color: green;\n",
       "font-weight: bold;\n",
       "}\n",
       ".hoogle-head {\n",
       "font-weight: bold;\n",
       "}\n",
       ".hoogle-sub {\n",
       "display: block;\n",
       "margin-left: 0.4em;\n",
       "}\n",
       ".hoogle-package {\n",
       "font-weight: bold;\n",
       "font-style: italic;\n",
       "}\n",
       ".hoogle-module {\n",
       "font-weight: bold;\n",
       "}\n",
       ".hoogle-class {\n",
       "font-weight: bold;\n",
       "}\n",
       ".get-type {\n",
       "color: green;\n",
       "font-weight: bold;\n",
       "font-family: monospace;\n",
       "display: block;\n",
       "white-space: pre-wrap;\n",
       "}\n",
       ".show-type {\n",
       "color: green;\n",
       "font-weight: bold;\n",
       "font-family: monospace;\n",
       "margin-left: 1em;\n",
       "}\n",
       ".mono {\n",
       "font-family: monospace;\n",
       "display: block;\n",
       "}\n",
       ".err-msg {\n",
       "color: red;\n",
       "font-style: italic;\n",
       "font-family: monospace;\n",
       "white-space: pre;\n",
       "display: block;\n",
       "}\n",
       "#unshowable {\n",
       "color: red;\n",
       "font-weight: bold;\n",
       "}\n",
       ".err-msg.in.collapse {\n",
       "padding-top: 0.7em;\n",
       "}\n",
       ".highlight-code {\n",
       "white-space: pre;\n",
       "font-family: monospace;\n",
       "}\n",
       ".suggestion-warning { \n",
       "font-weight: bold;\n",
       "color: rgb(200, 130, 0);\n",
       "}\n",
       ".suggestion-error { \n",
       "font-weight: bold;\n",
       "color: red;\n",
       "}\n",
       ".suggestion-name {\n",
       "font-weight: bold;\n",
       "}\n",
       "</style><span class='get-type'>dockFlow :: forall (r :: RopeRec) (core :: BinEff) (m :: * -> *) (mantle :: [Strand]).\n",
       "(RecElemFCtx r (Weaver core), MonadIO m, RecElem r (\"docker\" ::: DockerTask) (\"docker\" ::: DockerTask) mantle mantle (RIndex (\"docker\" ::: DockerTask) mantle),\n",
       " RecElem r (\"simple\" ::: SimpleTask) (\"simple\" ::: SimpleTask) mantle mantle (RIndex (\"simple\" ::: SimpleTask) mantle),\n",
       " RecElem r (\"store\" ::: StoreTask) (\"store\" ::: StoreTask) mantle mantle (RIndex (\"store\" ::: StoreTask) mantle), ArrowChoice core, ThrowEffect SomeException core, ThrowEffect StringException core,\n",
       " ThrowEffect DockerClientError core, TryEffect SomeException core, TryEffect StringException core, TryEffect DockerClientError core, SieveTrans m core, ProvidesCaching core,\n",
       " FieldType \"simple\" mantle ~ SimpleTask, FieldType \"store\" mantle ~ StoreTask, FieldType \"docker\" mantle ~ DockerTask) =>\n",
       "Rope r mantle core DockerTaskInput Item</span>"
      ],
      "text/plain": [
       "dockFlow :: forall (r :: RopeRec) (core :: BinEff) (m :: * -> *) (mantle :: [Strand]).\n",
       "(RecElemFCtx r (Weaver core), MonadIO m, RecElem r (\"docker\" ::: DockerTask) (\"docker\" ::: DockerTask) mantle mantle (RIndex (\"docker\" ::: DockerTask) mantle),\n",
       " RecElem r (\"simple\" ::: SimpleTask) (\"simple\" ::: SimpleTask) mantle mantle (RIndex (\"simple\" ::: SimpleTask) mantle),\n",
       " RecElem r (\"store\" ::: StoreTask) (\"store\" ::: StoreTask) mantle mantle (RIndex (\"store\" ::: StoreTask) mantle), ArrowChoice core, ThrowEffect SomeException core, ThrowEffect StringException core,\n",
       " ThrowEffect DockerClientError core, TryEffect SomeException core, TryEffect StringException core, TryEffect DockerClientError core, SieveTrans m core, ProvidesCaching core,\n",
       " FieldType \"simple\" mantle ~ SimpleTask, FieldType \"store\" mantle ~ StoreTask, FieldType \"docker\" mantle ~ DockerTask) =>\n",
       "Rope r mantle core DockerTaskInput Item"
      ]
     },
     "metadata": {},
     "output_type": "display_data"
    }
   ],
   "source": [
    "dockFlow :: Flow DE.DockerTaskInput CS.Item\n",
    "dockFlow = dockerFlow dockConf\n",
    ":t dockFlow"
   ]
  },
  {
   "cell_type": "markdown",
   "metadata": {},
   "source": [
    "Now, let's execute the flow and observe the failure:"
   ]
  },
  {
   "cell_type": "code",
   "execution_count": 6,
   "metadata": {},
   "outputs": [
    {
     "ename": "",
     "evalue": "",
     "header": "MessageHeader {mhIdentifiers = [\"5ae9d9b9-def4-4cbf-8345-68e4a3d66dcb\"], mhParentHeader = Just (MessageHeader {mhIdentifiers = [\"5ae9d9b9-def4-4cbf-8345-68e4a3d66dcb\"], mhParentHeader = Nothing, mhMetadata = Metadata (fromList [(\"recordTiming\",Bool False),(\"deletedCells\",Array []),(\"cellId\",String \"3bc43d66-67ee-4331-9f01-356be38c858b\")]), mhMessageId = UUID {uuidToString = \"010769ea-253b-4490-a42b-74b25b43938d\"}, mhSessionId = UUID {uuidToString = \"5ae9d9b9-def4-4cbf-8345-68e4a3d66dcb\"}, mhUsername = \"\", mhMsgType = ExecuteRequestMessage, mhBuffers = []}), mhMetadata = Metadata (fromList []), mhMessageId = UUID {uuidToString = \"79d3625a-8901-4be1-a1f0-9cbee56196d3\"}, mhSessionId = UUID {uuidToString = \"5ae9d9b9-def4-4cbf-8345-68e4a3d66dcb\"}, mhUsername = \"\", mhMsgType = ExecuteErrorMessage, mhBuffers = []}",
     "output_type": "error",
     "traceback": [
      "Control.Exception.Safe.throwString called with:\n\nMissing the following required config keys: [\"FUNFLOW_TEST\"]\nCalled from:\n  throwString (src/Funflow/Run.hs:151:18 in funflow-2.0.0-36do6jcb7CTEYqmNUAE5Qf:Funflow.Run)"
     ]
    }
   ],
   "source": [
    "runFlow dockFlow DE.DockerTaskInput{ DE.inputBindings = [], DE.argsVals = Map.empty } :: IO CS.Item"
   ]
  },
  {
   "cell_type": "markdown",
   "metadata": {},
   "source": [
    "To fix our engineered failure, we can set the environment variable that our task uses:"
   ]
  },
  {
   "cell_type": "code",
   "execution_count": 7,
   "metadata": {},
   "outputs": [
    {
     "data": {
      "text/plain": [
       "Just \"hello there!\""
      ]
     },
     "metadata": {},
     "output_type": "display_data"
    }
   ],
   "source": [
    "setEnv tmpEnvVar \"hello there!\"\n",
    "lookupEnv tmpEnvVar"
   ]
  },
  {
   "cell_type": "markdown",
   "metadata": {},
   "source": [
    "With the environment variable that we've used in our task now set, we can run the flow that wraps our task, and get past the _config-time_ failure associated with the nonexistent environment variable:"
   ]
  },
  {
   "cell_type": "code",
   "execution_count": 8,
   "metadata": {},
   "outputs": [
    {
     "ename": "",
     "evalue": "",
     "header": "MessageHeader {mhIdentifiers = [\"5ae9d9b9-def4-4cbf-8345-68e4a3d66dcb\"], mhParentHeader = Just (MessageHeader {mhIdentifiers = [\"5ae9d9b9-def4-4cbf-8345-68e4a3d66dcb\"], mhParentHeader = Nothing, mhMetadata = Metadata (fromList [(\"recordTiming\",Bool False),(\"deletedCells\",Array []),(\"cellId\",String \"250873c9-65ae-4b21-8596-2d75e114efe1\")]), mhMessageId = UUID {uuidToString = \"1103b401-c365-4d4d-be39-24bdc7b17899\"}, mhSessionId = UUID {uuidToString = \"5ae9d9b9-def4-4cbf-8345-68e4a3d66dcb\"}, mhUsername = \"\", mhMsgType = ExecuteRequestMessage, mhBuffers = []}), mhMetadata = Metadata (fromList []), mhMessageId = UUID {uuidToString = \"9eab4293-bb6a-4b58-bfc9-db127fe157a8\"}, mhSessionId = UUID {uuidToString = \"5ae9d9b9-def4-4cbf-8345-68e4a3d66dcb\"}, mhUsername = \"\", mhMsgType = ExecuteErrorMessage, mhBuffers = []}",
     "output_type": "error",
     "traceback": [
      "HttpExceptionRequest Request {\n  host                 = \"localhost\"\n  port                 = 80\n  secure               = False\n  requestHeaders       = []\n  path                 = \"/v1.40/images/create\"\n  queryString          = \"?fromImage=bash%3Alatest\"\n  method               = \"POST\"\n  proxy                = Nothing\n  rawBody              = False\n  redirectCount        = 10\n  responseTimeout      = ResponseTimeoutDefault\n  requestVersion       = HTTP/1.1\n}\n (ConnectionFailure Network.Socket.connect: <socket: 65>: does not exist (No such file or directory))"
     ]
    }
   ],
   "source": [
    "runFlow dockFlow DE.DockerTaskInput{ DE.inputBindings = [], DE.argsVals = Map.empty } :: IO CS.Item"
   ]
  },
  {
   "cell_type": "code",
   "execution_count": null,
   "metadata": {},
   "outputs": [],
   "source": []
  }
 ],
 "metadata": {
  "kernelspec": {
   "display_name": "Haskell - haskell",
   "language": "haskell",
   "name": "ihaskell_haskell"
  },
  "language_info": {
   "codemirror_mode": "Haskell",
   "file_extension": ".hs",
   "mimetype": "text/x-haskell",
   "name": "haskell",
   "pygments_lexer": "Haskell",
   "version": "8.8.4"
  }
 },
 "nbformat": 4,
 "nbformat_minor": 4
}
